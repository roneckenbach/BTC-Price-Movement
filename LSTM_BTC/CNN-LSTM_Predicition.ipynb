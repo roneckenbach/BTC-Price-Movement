{
 "cells": [
  {
   "cell_type": "code",
   "execution_count": null,
   "metadata": {},
   "outputs": [],
   "source": [
    "import numpy as np\n",
    "import matplotlib.pyplot as plt\n",
    "import pandas as pd\n",
    "import pandas_ta as ta\n",
    "import seaborn as sns\n",
    "import matplotlib.dates as mdates\n"
   ]
  },
  {
   "cell_type": "code",
   "execution_count": null,
   "metadata": {},
   "outputs": [],
   "source": [
    "data = pd.read_csv(\"C:\\WWI2021\\Semester 6\\Machine Learning Project\\LSTM_BTC\\data\\BTC-USD.csv\")\n",
    "#data"
   ]
  },
  {
   "cell_type": "code",
   "execution_count": null,
   "metadata": {},
   "outputs": [],
   "source": [
    "# Berechnen der Korrelationsmatrix\n",
    "corr = data[['Open', 'High', 'Low', 'Close', 'Adj Close', 'Volume']].corr()\n",
    "\n",
    "mask = np.triu(np.ones_like(corr, dtype=bool))\n",
    "\n",
    "plt.figure(figsize=(10, 8))\n",
    "sns.heatmap(corr, annot=True, fmt=\".2f\", cmap='Blues', mask=mask, cbar_kws={'label': 'Korrelationskoeffizient'},\n",
    "            linewidths=0.5, linecolor='white')\n",
    "plt.title('Korrelationsmatrix der Features', fontsize=14, fontweight='bold')\n",
    "plt.show()"
   ]
  },
  {
   "cell_type": "code",
   "execution_count": null,
   "metadata": {},
   "outputs": [],
   "source": [
    "data_prep = data.drop(['Open', 'High', 'Low','Adj Close', 'Volume'], axis=1)\n",
    "\n",
    "# Überprüfung des aktualisierten DataFrames\n",
    "print(data_prep.head())\n"
   ]
  },
  {
   "cell_type": "code",
   "execution_count": null,
   "metadata": {},
   "outputs": [],
   "source": [
    "#Neue Feature hinzufügen\n",
    "\n",
    "# ersten 150 Tage nicht nutzbar da der ema150 nicht berechnet werden kann\n",
    "data_prep['RSI']=ta.rsi(data_prep.Close, length=15)\n",
    "data_prep['EMA20']=ta.ema(data_prep.Close, length=20)\n",
    "data_prep['EMA100']=ta.ema(data_prep.Close, length=100)\n",
    "data_prep['EMA150']=ta.ema(data_prep.Close, length=150)\n",
    "data_prep"
   ]
  },
  {
   "cell_type": "code",
   "execution_count": null,
   "metadata": {},
   "outputs": [],
   "source": [
    "data_prep['RSI']=ta.rsi(data_prep.Close, length=15)\n",
    "data_prep['EMA20']=ta.ema(data_prep.Close, length=20)\n",
    "data_prep['EMA100']=ta.ema(data_prep.Close, length=100)\n",
    "data_prep['EMA150']=ta.ema(data_prep.Close, length=150)"
   ]
  },
  {
   "cell_type": "code",
   "execution_count": null,
   "metadata": {},
   "outputs": [],
   "source": [
    "import pandas as pd\n",
    "import ta\n",
    "\n",
    "# Simple Moving Average (SMA)\n",
    "data_prep['SMA50'] = ta.trend.SMAIndicator(close=data_prep['Close'], window=50).sma_indicator()\n",
    "\n",
    "# Momentum Indicator\n",
    "data_prep['Momentum'] = ta.momentum.ROCIndicator(close=data_prep['Close'], window=10).roc()\n",
    "\n",
    "# Rate of Change (ROC)\n",
    "data_prep['ROC'] = ta.momentum.ROCIndicator(close=data_prep['Close'], window=12).roc()\n",
    "\n",
    "# Bollinger Bands\n",
    "bollinger = ta.volatility.BollingerBands(close=data_prep['Close'], window=20, window_dev=2)\n",
    "data_prep['Bollinger_Middle'] = bollinger.bollinger_mavg()\n",
    "data_prep['Bollinger_Upper'] = bollinger.bollinger_hband()\n",
    "data_prep['Bollinger_Lower'] = bollinger.bollinger_lband()\n",
    "\n",
    "# Moving Average Convergence Divergence (MACD)\n",
    "macd = ta.trend.MACD(close=data_prep['Close'], window_slow=26, window_fast=12, window_sign=9)\n",
    "data_prep['MACD'] = macd.macd()\n",
    "\n",
    "# Zielvariablen für die Vorhersage erstellen\n",
    "data_prep['Percent_Change_Next_Day'] = data_prep['Close'].pct_change(1).shift(-1)\n",
    "data_prep['Percent_Change_Next_10_Days'] = data_prep['Close'].pct_change(10).shift(-10)\n",
    "\n",
    "# Optional: Drop NaN values if necessary\n",
    "data_prep.dropna(inplace=True)\n",
    "data_prep\n",
    "\n"
   ]
  },
  {
   "cell_type": "code",
   "execution_count": null,
   "metadata": {},
   "outputs": [],
   "source": [
    "# Berechnen der Korrelationsmatrix\n",
    "corr = data_prep[['Close', 'RSI', 'EMA20', 'EMA100', 'EMA150', 'SMA50', 'Momentum', 'ROC', 'Bollinger_Middle', 'Bollinger_Upper', 'Bollinger_Lower', 'MACD']].corr()\n",
    "\n",
    "mask = np.triu(np.ones_like(corr, dtype=bool))\n",
    "\n",
    "plt.figure(figsize=(10, 8))\n",
    "sns.heatmap(corr, annot=True, fmt=\".2f\", cmap='Blues', mask=mask, cbar_kws={'label': 'Korrelationskoeffizient'},\n",
    "            linewidths=0.5, linecolor='white')\n",
    "plt.title('Korrelationsmatrix der Features', fontsize=14, fontweight='bold')\n",
    "plt.show()"
   ]
  },
  {
   "cell_type": "code",
   "execution_count": null,
   "metadata": {},
   "outputs": [],
   "source": [
    "data_prep['TargetNextClose'] = data_prep['Close'].shift(-1)\n",
    "data_prep"
   ]
  },
  {
   "cell_type": "code",
   "execution_count": null,
   "metadata": {},
   "outputs": [],
   "source": [
    "data_clean = data_prep\n",
    "data_clean.dropna(inplace=True)\n",
    "data_clean.reset_index(drop=True, inplace=True)"
   ]
  },
  {
   "cell_type": "code",
   "execution_count": null,
   "metadata": {},
   "outputs": [],
   "source": [
    "data_clean.drop(['Date', 'RSI', 'Momentum', 'ROC'], axis=1, inplace=True)\n",
    "\n",
    "data_clean.dropna(inplace=True)\n"
   ]
  },
  {
   "cell_type": "code",
   "execution_count": null,
   "metadata": {},
   "outputs": [],
   "source": [
    "data_clean"
   ]
  },
  {
   "cell_type": "code",
   "execution_count": null,
   "metadata": {},
   "outputs": [],
   "source": [
    "data['Date'] = pd.to_datetime(data['Date'])\n",
    "\n",
    "# Runden der 'Low' und 'High' Werte auf zwei Nachkommastellen\n",
    "data['Low'] = data['Low'].round(2)\n",
    "data['High'] = data['High'].round(2)\n",
    "\n",
    "# Erstellung des Plots\n",
    "plt.figure(figsize=(14, 7))\n",
    "plt.plot(data['Date'], data['Close'], label='Close Price', color='royalblue')\n",
    "\n",
    "# Höchst- und Tiefstpreisen hervorheben\n",
    "max_price = data['High'].max()\n",
    "min_price = data['Low'].min()\n",
    "max_date = data['Date'][data['High'].idxmax()]\n",
    "min_date = data['Date'][data['Low'].idxmin()]\n",
    "plt.scatter(max_date, max_price, color='red', label=f'Highest Price: {max_price:.2f} $')\n",
    "plt.scatter(min_date, min_price, color='green', label=f'Lowest Price: {min_price:.2f} $')\n",
    "\n",
    "# Beschriftungen und Titel\n",
    "plt.title('Bitcoin Closing Prices Over Time', fontsize=16, fontweight='bold')\n",
    "plt.xlabel('Year', fontsize=14)\n",
    "ax = plt.gca()\n",
    "ax.xaxis.set_major_locator(mdates.YearLocator())\n",
    "ax.xaxis.set_major_formatter(mdates.DateFormatter('%Y'))\n",
    "plt.xticks(rotation=45)\n",
    "plt.ylabel('Close Price (USD)', fontsize=14)\n",
    "plt.legend()\n",
    "\n",
    "ax.grid(True, linestyle='-', linewidth='0.5', color='lightgray')  # Lichtgraues Gitter hinzufügen\n",
    "ax.set_yticks(range(0, int(data['Close'].max()), 10000))  # Y-Achsen-Ticks in 10.000 $ Schritten\n",
    "\n",
    "# Anzeigen des Plots\n",
    "plt.show()"
   ]
  }
 ],
 "metadata": {
  "kernelspec": {
   "display_name": "venv",
   "language": "python",
   "name": "python3"
  },
  "language_info": {
   "codemirror_mode": {
    "name": "ipython",
    "version": 3
   },
   "file_extension": ".py",
   "mimetype": "text/x-python",
   "name": "python",
   "nbconvert_exporter": "python",
   "pygments_lexer": "ipython3",
   "version": "3.10.7"
  }
 },
 "nbformat": 4,
 "nbformat_minor": 2
}
