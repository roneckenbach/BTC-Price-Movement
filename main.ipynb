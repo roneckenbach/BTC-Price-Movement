{
 "cells": [
  {
   "cell_type": "code",
   "execution_count": null,
   "metadata": {},
   "outputs": [],
   "source": [
    "import itertools\n",
    "\n",
    "import pandas as pd\n",
    "import numpy as np\n",
    "import seaborn as sns\n",
    "import matplotlib.pyplot as plt\n",
    "from sklearn.preprocessing import MinMaxScaler\n",
    "from sklearn.metrics import confusion_matrix, ConfusionMatrixDisplay\n",
    "import tensorflow as tf\n",
    "from tensorflow.keras.models import Sequential\n",
    "from tensorflow.keras.layers import Conv1D, MaxPooling1D, LSTM, Dense, Dropout\n",
    "from tensorflow.keras.optimizers import Adam\n",
    "import mlflow\n",
    "import mlflow.keras\n",
    "import ta"
   ]
  },
  {
   "cell_type": "markdown",
   "metadata": {},
   "source": [
    "**Load dataset and inspect**"
   ]
  },
  {
   "cell_type": "code",
   "execution_count": null,
   "metadata": {},
   "outputs": [],
   "source": [
    "data = pd.read_csv(\"./data/BTC-USD.csv\")\n",
    "\n",
    "# Display basic information about the dataset\n",
    "print(\"Basic Information:\")\n",
    "print(data.info())\n",
    "\n",
    "data['Date'] = pd.to_datetime(data['Date'])\n",
    "data.set_index('Date', inplace=True)\n",
    "\n",
    "# Validate data distribution across the dataset\n",
    "n = len(data)\n",
    "train_end = int(0.7 * n)\n",
    "val_end = int(0.9 * n)\n",
    "\n",
    "data['Price_Change'] = data['Close'].diff()\n",
    "\n",
    "data['Price_Trend'] = data['Price_Change'].apply(lambda x: 'Increase' if x > 0 else 'Decrease')\n",
    "\n",
    "train_data = data[:train_end]\n",
    "val_data = data[train_end:val_end]\n",
    "test_data = data[val_end:]\n",
    "\n",
    "train_distribution = train_data['Price_Trend'].value_counts()\n",
    "val_distribution = val_data['Price_Trend'].value_counts()\n",
    "test_distribution = test_data['Price_Trend'].value_counts()\n",
    "\n",
    "distribution_df = pd.DataFrame({\n",
    "    'Price Trend': ['Increase', 'Decrease'],\n",
    "    'Training': [train_distribution.get('Increase', 0), train_distribution.get('Decrease', 0)],\n",
    "    'Validation': [val_distribution.get('Increase', 0), val_distribution.get('Decrease', 0)],\n",
    "    'Test': [test_distribution.get('Increase', 0), test_distribution.get('Decrease', 0)]\n",
    "})\n",
    "\n",
    "print(distribution_df)"
   ]
  },
  {
   "cell_type": "markdown",
   "metadata": {},
   "source": [
    "**Feature Engineering**"
   ]
  },
  {
   "cell_type": "code",
   "execution_count": null,
   "metadata": {},
   "outputs": [],
   "source": [
    "# Adding new features\n",
    "\n",
    "data['Previous_Close'] = data['Close'].shift(1)\n",
    "\n",
    "# Target Feature\n",
    "data['Target'] = (data['Close'] <= data['Previous_Close']).astype(int)\n",
    "\n",
    "# Variety of Trading Indicators\n",
    "data['RSI'] = ta.momentum.RSIIndicator(data['Close']).rsi()\n",
    "\n",
    "data['EMA20'] = ta.trend.EMAIndicator(data['Close'], window=20).ema_indicator()\n",
    "data['EMA100'] = ta.trend.EMAIndicator(data['Close'], window=100).ema_indicator()\n",
    "data['EMA150'] = ta.trend.EMAIndicator(data['Close'], window=150).ema_indicator()\n",
    "\n",
    "data['SMA50'] = ta.trend.SMAIndicator(close=data['Close'], window=50).sma_indicator()\n",
    "\n",
    "data['Momentum'] = ta.momentum.ROCIndicator(close=data['Close'], window=10).roc()\n",
    "\n",
    "data['ROC'] = ta.momentum.ROCIndicator(close=data['Close'], window=12).roc()\n",
    "\n",
    "bollinger = ta.volatility.BollingerBands(close=data['Close'], window=20, window_dev=2)\n",
    "data['Bollinger_Middle'] = bollinger.bollinger_mavg()\n",
    "data['Bollinger_Upper'] = bollinger.bollinger_hband()\n",
    "data['Bollinger_Lower'] = bollinger.bollinger_lband()\n",
    "\n",
    "macd = ta.trend.MACD(close=data['Close'], window_slow=26, window_fast=12, window_sign=9)\n",
    "data['MACD'] = macd.macd()"
   ]
  },
  {
   "cell_type": "code",
   "execution_count": null,
   "metadata": {},
   "outputs": [],
   "source": [
    "# Correlation Matrix\n",
    "corr = data[['Open', 'High','Low', 'Close','Adj Close', 'Volume', 'RSI', 'EMA20', 'EMA100', 'EMA150', 'SMA50', 'Momentum', 'ROC', 'Bollinger_Middle', 'Bollinger_Upper', 'Bollinger_Lower', 'MACD']].corr()\n",
    "\n",
    "mask = np.triu(np.ones_like(corr, dtype=bool))\n",
    "\n",
    "plt.figure(figsize=(10, 6))\n",
    "sns.heatmap(corr, annot=True, fmt=\".2f\", cmap='Blues', mask=mask,\n",
    "            linewidths=0.5, linecolor='white')\n",
    "plt.title('Correlation matrix between old and new features', fontsize=14, fontweight='bold')"
   ]
  },
  {
   "cell_type": "code",
   "execution_count": null,
   "metadata": {},
   "outputs": [],
   "source": [
    "# Keep only relevant features\n",
    "data.drop(['High', 'Low', 'Adj Close', 'Volume','Open', 'EMA100', 'EMA150', 'SMA50', 'Momentum', 'ROC', 'Bollinger_Upper', 'Bollinger_Lower'], axis=1, inplace=True)\n",
    "data.dropna(inplace=True)"
   ]
  },
  {
   "cell_type": "markdown",
   "metadata": {},
   "source": [
    "**Data Preperation**"
   ]
  },
  {
   "cell_type": "code",
   "execution_count": null,
   "metadata": {},
   "outputs": [],
   "source": [
    "# Selecting and scaling relevant features\n",
    "selected_features = ['Close', 'RSI', 'EMA20', 'Bollinger_Middle', 'MACD', 'Previous_Close']\n",
    "sc = MinMaxScaler(feature_range=(0, 1))\n",
    "scaled_features = sc.fit_transform(data[selected_features])\n",
    "\n",
    "def create_sequences(features, target, seq_length):\n",
    "    sequences = []\n",
    "    labels = []\n",
    "    for i in range(len(features) - seq_length):\n",
    "        sequence = features[i:i + seq_length]\n",
    "        label = target[i + seq_length]\n",
    "        sequences.append(sequence)\n",
    "        labels.append(label)\n",
    "    return np.array(sequences), np.array(labels)"
   ]
  },
  {
   "cell_type": "code",
   "execution_count": null,
   "metadata": {},
   "outputs": [],
   "source": [
    "#Creating new experiment\n",
    "mlflow.set_tracking_uri(\"http://127.0.0.1:8080\")\n",
    "mlflow.set_experiment(\"BTC Price Movement Prediction\")\n",
    "\n",
    "\n",
    "learning_rates = [0.001, 0.003, 0.005, 0.007, 0.01]\n",
    "seq_lengths = [10, 30, 50]\n",
    "epochs = 30\n",
    "batch_size = 32\n",
    "\n",
    "# Split data into train, validation and test + reshaping \n",
    "def prepare_data(seq_length):\n",
    "    X, y = create_sequences(scaled_features, data['Target'].values, seq_length)\n",
    "    train_size = int(0.7 * len(X))\n",
    "    val_size = int(0.2 * len(X))\n",
    "    test_size = len(X) - train_size - val_size\n",
    "    X_train, X_val, X_test = X[:train_size], X[train_size:train_size + val_size], X[train_size + val_size:]\n",
    "    y_train, y_val, y_test = y[:train_size], y[train_size:train_size + val_size], y[train_size + val_size:]\n",
    "    X_train = X_train.reshape((X_train.shape[0], X_train.shape[1], X_train.shape[2]))\n",
    "    X_val = X_val.reshape((X_val.shape[0], X_val.shape[1], X_val.shape[2]))\n",
    "    X_test = X_test.reshape((X_test.shape[0], X_test.shape[1], X_test.shape[2]))\n",
    "    return X_train, X_val, X_test, y_train, y_val, y_test"
   ]
  },
  {
   "cell_type": "markdown",
   "metadata": {},
   "source": [
    "**Model building, training and prediction**"
   ]
  },
  {
   "cell_type": "code",
   "execution_count": null,
   "metadata": {},
   "outputs": [],
   "source": [
    "for lr in learning_rates:\n",
    "    for seq_length in seq_lengths:\n",
    "        with mlflow.start_run():\n",
    "            \n",
    "            params = {\n",
    "                \"learning_rate\": lr,\n",
    "                \"epochs\": epochs,\n",
    "                \"batch_size\": batch_size,\n",
    "                \"seq_length\": seq_length\n",
    "            }\n",
    "            mlflow.log_params(params)\n",
    "\n",
    "            \n",
    "            X_train, X_val, X_test, y_train, y_val, y_test = prepare_data(seq_length)           \n",
    "            optimizer = Adam(learning_rate=lr)\n",
    "\n",
    "            # Model architecture\n",
    "            model = Sequential()\n",
    "            model.add(Conv1D(filters=64, kernel_size=3, activation='relu', input_shape=(seq_length, len(selected_features))))\n",
    "            model.add(MaxPooling1D(pool_size=2))\n",
    "            model.add(LSTM(units=50, activation='relu', return_sequences=True))\n",
    "            model.add(LSTM(units=50, activation='relu'))\n",
    "            model.add(Dropout(0.2))\n",
    "            model.add(Dense(units=1, activation='sigmoid'))\n",
    "\n",
    "            model.compile(optimizer=optimizer, loss='binary_crossentropy', metrics=['accuracy'])\n",
    "\n",
    "            history = model.fit(X_train, y_train, epochs=epochs, batch_size=batch_size, validation_data=(X_val, y_val))\n",
    "\n",
    "            loss, accuracy = model.evaluate(X_test, y_test)\n",
    "            print(f'Test Loss: {loss}')\n",
    "            print(f'Test Accuracy: {accuracy}')\n",
    "\n",
    "            mlflow.log_metric(\"loss\", loss)\n",
    "            mlflow.log_metric(\"accuracy\", accuracy)\n",
    "            mlflow.keras.log_model(model, \"model\")\n",
    "\n",
    "            # Prediction making and converting into binary\n",
    "            predictions = (model.predict(X_test) > 0.5).astype(int)\n",
    "\n",
    "            mlflow.set_tag(\"model\", \"CNN-LSTM\")\n"
   ]
  },
  {
   "cell_type": "markdown",
   "metadata": {},
   "source": [
    "**Visual representation**"
   ]
  },
  {
   "cell_type": "code",
   "execution_count": null,
   "metadata": {},
   "outputs": [],
   "source": [
    "# Accuracy and hyperparameters\n",
    "experiment_name = \"BTC Price Movement Prediction\"\n",
    "experiment = mlflow.get_experiment_by_name(experiment_name)\n",
    "runs_df = mlflow.search_runs(experiment_ids=[experiment.experiment_id])\n",
    "\n",
    "runs_df['params.learning_rate'] = runs_df['params.learning_rate'].astype(float)\n",
    "runs_df['metrics.accuracy'] = runs_df['metrics.accuracy'].astype(float)\n",
    "runs_df['params.seq_length'] = runs_df['params.seq_length'].astype(int)\n",
    "\n",
    "plt.figure(figsize=(10, 6))\n",
    "scatter = plt.scatter(runs_df['params.learning_rate'], runs_df['metrics.accuracy'],\n",
    "                      s=runs_df['params.seq_length']*10, \n",
    "                      c=runs_df['params.seq_length'], cmap='viridis', alpha=0.6, edgecolors='w', linewidth=0.5)\n",
    "plt.xlabel('Learning Rate')\n",
    "plt.ylabel('Accuracy')\n",
    "plt.title('Impact of different hyperparameter values')\n",
    "plt.grid(True)\n",
    "\n",
    "cbar = plt.colorbar(scatter)\n",
    "cbar.set_label('Sequence Length')\n",
    "\n",
    "plt.show()"
   ]
  },
  {
   "cell_type": "code",
   "execution_count": null,
   "metadata": {},
   "outputs": [],
   "source": [
    "# Confusion matrix\n",
    "run_id = \"799f2cf52e90475ebb91ab08a3da8b2c\" #change for new best run id!\n",
    "model_uri = f\"runs:/{run_id}/model\"\n",
    "model = mlflow.keras.load_model(model_uri)\n",
    "\n",
    "predictions = (model.predict(X_test) > 0.5).astype(int)\n",
    "\n",
    "cm = confusion_matrix(y_test, predictions)\n",
    "\n",
    "fig, ax = plt.subplots()\n",
    "disp = ConfusionMatrixDisplay(confusion_matrix=cm, display_labels=[\"Falling\", \"Rising\"])\n",
    "disp.plot(ax=ax, cmap=plt.cm.Blues, colorbar=False)\n",
    "ax.set_title('Confusion Matrix')\n",
    "ax.set_xlabel('Predicted Labels')\n",
    "ax.set_ylabel('True Labels')\n",
    "\n",
    "tick_marks = np.arange(len(disp.display_labels))\n",
    "ax.set_xticks(tick_marks)\n",
    "ax.set_yticks(tick_marks)\n",
    "ax.set_xticklabels(['False Falling', 'True Rising'])\n",
    "ax.set_yticklabels(['True Falling', 'False Rising'])\n",
    "\n",
    "plt.show()"
   ]
  }
 ],
 "metadata": {
  "kernelspec": {
   "display_name": "env",
   "language": "python",
   "name": "python3"
  },
  "language_info": {
   "codemirror_mode": {
    "name": "ipython",
    "version": 3
   },
   "file_extension": ".py",
   "mimetype": "text/x-python",
   "name": "python",
   "nbconvert_exporter": "python",
   "pygments_lexer": "ipython3",
   "version": "3.10.7"
  }
 },
 "nbformat": 4,
 "nbformat_minor": 2
}
